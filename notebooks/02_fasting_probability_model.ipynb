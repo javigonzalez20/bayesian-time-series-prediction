{
 "cells": [
  {
   "cell_type": "markdown",
   "id": "f6143449",
   "metadata": {},
   "source": [
    "# Modeling Fasting Probability with Bayesian Logistic Regression\n",
    "This notebook models the probability of being in a fasting state using Bayesian logistic regression with PyMC and Metropolis-Hastings sampling."
   ]
  },
  {
   "cell_type": "markdown",
   "id": "e840e86b",
   "metadata": {},
   "source": [
    "## ⚠️ Data Notice\n",
    "*The original dataset `freezer.txt` used in this project is not available. However, the code is preserved below and ready to run with any compatible dataset.*"
   ]
  },
  {
   "cell_type": "code",
   "execution_count": null,
   "id": "f68b4cbd",
   "metadata": {},
   "outputs": [],
   "source": [
    "import numpy as np\n",
    "import matplotlib.pyplot as plt\n",
    "import pymc as pm\n",
    "import os"
   ]
  },
  {
   "cell_type": "markdown",
   "id": "82f9e4bb",
   "metadata": {},
   "source": [
    "## Logistic Function Definition"
   ]
  },
  {
   "cell_type": "code",
   "execution_count": null,
   "id": "e571a3f1",
   "metadata": {},
   "outputs": [],
   "source": [
    "def logistic(x, beta, alpha):\n",
    "    return 1 / (1 + np.exp(beta * x + alpha))"
   ]
  },
  {
   "cell_type": "markdown",
   "id": "6dc72f66",
   "metadata": {},
   "source": [
    "## Load Dataset\n",
    "Assumes a file `freezer.txt` with two columns: time and binary variable indicating fasting (1) or not (0)."
   ]
  },
  {
   "cell_type": "code",
   "execution_count": null,
   "id": "aa541da5",
   "metadata": {},
   "outputs": [],
   "source": [
    "# ⚠️ Data loading is commented out due to missing file\n",
    "# current_dir = os.path.dirname(os.path.abspath(\"freezer.txt\"))\n",
    "# file_path = os.path.join(current_dir, 'freezer.txt')\n",
    "# data = np.loadtxt(file_path)\n",
    "# x = data[:, 0]\n",
    "# y = data[:, 1]"
   ]
  },
  {
   "cell_type": "markdown",
   "id": "ff58bcf3",
   "metadata": {},
   "source": [
    "## Bayesian Logistic Regression Model"
   ]
  },
  {
   "cell_type": "code",
   "execution_count": null,
   "id": "27885fed",
   "metadata": {},
   "outputs": [],
   "source": [
    "if 'x' in locals() and 'y' in locals():\n",
    "    with pm.Model() as eat_model:\n",
    "        alpha = pm.Normal('alpha', mu=0.0, sigma=1.0, initval=0.0)\n",
    "        beta = pm.Normal('beta', mu=0.0, sigma=1.0, initval=0.0)\n",
    "\n",
    "        p = pm.Deterministic('p', 1. / (1. + pm.math.exp(beta * x + alpha)))\n",
    "        observed = pm.Bernoulli('obs', p, observed=y)\n",
    "\n",
    "        step = pm.Metropolis()\n",
    "        eat_trace = pm.sample(2000, step=step, tune=1000)"
   ]
  },
  {
   "cell_type": "markdown",
   "id": "9038719a",
   "metadata": {},
   "source": [
    "## Posterior Analysis"
   ]
  },
  {
   "cell_type": "code",
   "execution_count": null,
   "id": "e7f310e6",
   "metadata": {},
   "outputs": [],
   "source": [
    "if 'eat_trace' in locals():\n",
    "    plt.rcParams.update({'axes.labelsize': 8, 'xtick.labelsize': 8, 'ytick.labelsize': 8, 'font.size': 8})\n",
    "    pm.plot_trace(eat_trace, var_names=['alpha', 'beta'])\n",
    "    plt.show()\n",
    "else:\n",
    "    print(\"⚠️ 'eat_trace' not defined. Provide data and run the model cell first.\")"
   ]
  },
  {
   "cell_type": "markdown",
   "id": "951ae4d0",
   "metadata": {},
   "source": [
    "## Probability Estimation and Plotting"
   ]
  },
  {
   "cell_type": "code",
   "execution_count": null,
   "id": "b8c2f4bb",
   "metadata": {},
   "outputs": [],
   "source": [
    "if 'eat_trace' in locals():\n",
    "    alpha_samples = eat_trace.posterior['alpha'].values\n",
    "    beta_samples = eat_trace.posterior['beta'].values\n",
    "    alpha_mean = alpha_samples.mean()\n",
    "    beta_mean = beta_samples.mean()\n",
    "\n",
    "    time_est = np.linspace(x.min() - 5, x.max() + 5, 1000)\n",
    "    eat_est = logistic(time_est, beta_mean, alpha_mean)\n",
    "\n",
    "    plt.figure(figsize=(12, 6))\n",
    "    plt.plot(time_est, eat_est, color='orange', linewidth=6)\n",
    "    plt.xlabel('Tiempo (minutos)', fontsize=24)\n",
    "    plt.ylabel('Probabilidad', fontsize=24)\n",
    "    plt.xticks(fontsize=24)\n",
    "    plt.yticks(fontsize=24)\n",
    "    plt.legend()\n",
    "    plt.grid(False)\n",
    "    plt.show()\n",
    "else:\n",
    "    print(\"⚠️ Cannot estimate probabilities. Trace not available.\")"
   ]
  },
  {
   "cell_type": "markdown",
   "id": "009c033b",
   "metadata": {},
   "source": [
    "## Summary\n",
    "This notebook demonstrates Bayesian logistic regression for binary classification of fasting state. It uses MCMC with Metropolis sampling. While the original dataset is not available, the code structure remains intact and reusable."
   ]
  }
 ],
 "metadata": {},
 "nbformat": 4,
 "nbformat_minor": 5
}
