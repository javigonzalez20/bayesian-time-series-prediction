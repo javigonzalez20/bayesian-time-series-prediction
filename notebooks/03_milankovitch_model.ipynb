{
 "cells": [
  {
   "cell_type": "markdown",
   "id": "ea23aa60",
   "metadata": {},
   "source": [
    "# Modeling Historical Temperature Using Milankovitch Cycles\n",
    "This notebook uses Bayesian methods and MCMC (via `emcee`) to fit a sinusoidal model to paleoclimate data extracted from ice core measurements. The model includes three periodic components reflecting Milankovitch cycles."
   ]
  },
  {
   "cell_type": "markdown",
   "id": "ea27689a",
   "metadata": {},
   "source": [
    "## ⚠️ Data Notice\n",
    "*The original dataset `ice_core_data.txt` used in this project is no longer available. However, the code below remains functional and ready to use with any compatible dataset.*"
   ]
  },
  {
   "cell_type": "code",
   "execution_count": null,
   "id": "c8b3b949",
   "metadata": {},
   "outputs": [],
   "source": [
    "import numpy as np\n",
    "import matplotlib.pyplot as plt\n",
    "import emcee\n",
    "import pymc as pm\n",
    "import os\n",
    "from matplotlib.ticker import ScalarFormatter\n",
    "\n",
    "plt.rcParams['figure.figsize'] = (20,10)"
   ]
  },
  {
   "cell_type": "markdown",
   "id": "42885f4e",
   "metadata": {},
   "source": [
    "## Load the Dataset\n",
    "This code assumes that the file `ice_core_data.txt` is in the same directory. The dataset should contain at least the age (years before present) and temperature deviation columns."
   ]
  },
  {
   "cell_type": "code",
   "execution_count": null,
   "id": "5c2d59ef",
   "metadata": {},
   "outputs": [],
   "source": [
    "# ⚠️ This code is commented out since the dataset is not available.\n",
    "# Uncomment and run if you have the dataset.\n",
    "# current_dir = os.path.dirname(os.path.abspath(\"ice_core_data.txt\"))\n",
    "# file_path = os.path.join(current_dir, 'ice_core_data.txt')\n",
    "# ice_data = np.loadtxt(file_path)\n",
    "# ice_data = np.transpose(ice_data)\n",
    "# age = ice_data[2]\n",
    "# T = ice_data[4]"
   ]
  },
  {
   "cell_type": "markdown",
   "id": "4c3cb2a9",
   "metadata": {},
   "source": [
    "## Define the Model\n",
    "The model consists of three sinusoidal components and a constant offset."
   ]
  },
  {
   "cell_type": "code",
   "execution_count": null,
   "id": "15c15f30",
   "metadata": {},
   "outputs": [],
   "source": [
    "def model(theta, age):\n",
    "    a1, a2, a3, p1, p2, p3, T0 = theta\n",
    "    return (a1 * np.sin(2 * np.pi * age / p1) +\n",
    "            a2 * np.sin(2 * np.pi * age / p2) +\n",
    "            a3 * np.sin(2 * np.pi * age / p3) + T0)"
   ]
  },
  {
   "cell_type": "code",
   "execution_count": null,
   "id": "fa204f8f",
   "metadata": {},
   "outputs": [],
   "source": [
    "def lnlike(theta, x, y, yerr):\n",
    "    return -0.5 * np.sum(((y - model(theta, x)) / yerr) ** 2)"
   ]
  },
  {
   "cell_type": "code",
   "execution_count": null,
   "id": "422ab137",
   "metadata": {},
   "outputs": [],
   "source": [
    "def lnprior(theta):\n",
    "    a1, a2, a3, p1, p2, p3, T0 = theta\n",
    "    if 0.0 < a1 < 5.0 and 0.0 < a2 < 5.0 and 0.0 < a3 < 5.0 and \\\n",
    "       10000. < p1 < 200000 and 10000. < p2 < 200000 and 10000. < p3 < 200000 and \\\n",
    "       -10.0 < T0 < 0:\n",
    "        return 0.0\n",
    "    return -np.inf"
   ]
  },
  {
   "cell_type": "code",
   "execution_count": null,
   "id": "e372a871",
   "metadata": {},
   "outputs": [],
   "source": [
    "def lnprob(theta, x, y, yerr):\n",
    "    lp = lnprior(theta)\n",
    "    if not np.isfinite(lp):\n",
    "        return -np.inf\n",
    "    return lp + lnlike(theta, x, y, yerr)"
   ]
  },
  {
   "cell_type": "markdown",
   "id": "d95fd069",
   "metadata": {},
   "source": [
    "## MCMC Sampling Setup\n",
    "Set the number of walkers, iterations, and initial parameters."
   ]
  },
  {
   "cell_type": "code",
   "execution_count": null,
   "id": "ffc416dc",
   "metadata": {},
   "outputs": [],
   "source": [
    "Terr = 0.05  # Placeholder for mean temperature error\n",
    "# data = (age, T, Terr)\n",
    "nwalkers = 128\n",
    "niter = 500\n",
    "initial = np.array([1.0, 1.0, 1.0, 26000., 41000., 100000., -4.5])\n",
    "ndim = len(initial)\n",
    "p0 = [initial + 1e-7 * np.random.randn(ndim) for _ in range(nwalkers)]"
   ]
  },
  {
   "cell_type": "code",
   "execution_count": null,
   "id": "2e09bd91",
   "metadata": {},
   "outputs": [],
   "source": [
    "def run_mcmc(p0, nwalkers, niter, ndim, lnprob, data):\n",
    "    sampler = emcee.EnsembleSampler(nwalkers, ndim, lnprob, args=data)\n",
    "    print(\"Running burn-in...\")\n",
    "    p0, _, _ = sampler.run_mcmc(p0, 100)\n",
    "    sampler.reset()\n",
    "    print(\"Running production...\")\n",
    "    pos, prob, state = sampler.run_mcmc(p0, niter)\n",
    "    return sampler, pos, prob, state"
   ]
  },
  {
   "cell_type": "markdown",
   "id": "3f28a6af",
   "metadata": {},
   "source": [
    "## Visualization\n",
    "Plot the model fit with randomly selected samples."
   ]
  },
  {
   "cell_type": "code",
   "execution_count": null,
   "id": "fb2dd764",
   "metadata": {},
   "outputs": [],
   "source": [
    "def plot_samples(sampler, age, T):\n",
    "    plt.plot(age, T, label='Observed')\n",
    "    samples = sampler.flatchain\n",
    "    for theta in samples[np.random.randint(len(samples), size=100)]:\n",
    "        plt.plot(age, model(theta, age), color='r', alpha=0.1)\n",
    "    plt.xlabel('Years ago')\n",
    "    plt.ylabel('ΔT (°C)')\n",
    "    plt.legend()\n",
    "    plt.show()"
   ]
  },
  {
   "cell_type": "markdown",
   "id": "022d652a",
   "metadata": {},
   "source": [
    "## Summary\n",
    "This notebook demonstrates how to apply Bayesian inference via MCMC to fit a composite sinusoidal model to paleoclimate data. Despite the dataset not being available, the code can be reused and adapted to other datasets of similar structure."
   ]
  }
 ],
 "metadata": {},
 "nbformat": 4,
 "nbformat_minor": 5
}
