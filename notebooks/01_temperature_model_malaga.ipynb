{
 "cells": [
  {
   "cell_type": "markdown",
   "id": "935172a0",
   "metadata": {},
   "source": [
    "# Modeling Málaga Temperature with Bayesian Inference\n",
    "This notebook demonstrates how to model average temperature data using a sinusoidal model in a Bayesian framework, implemented with PyMC."
   ]
  },
  {
   "cell_type": "markdown",
   "id": "36fd38c6",
   "metadata": {},
   "source": [
    "## ⚠️ Data Notice\n",
    "*The original dataset `temperatura.txt` used in this project is not available. However, the code below remains fully functional with any compatible time series dataset.*"
   ]
  },
  {
   "cell_type": "code",
   "execution_count": null,
   "id": "33da737a",
   "metadata": {},
   "outputs": [],
   "source": [
    "import numpy as np\n",
    "import matplotlib.pyplot as plt\n",
    "import pymc as pm\n",
    "import os"
   ]
  },
  {
   "cell_type": "markdown",
   "id": "426140aa",
   "metadata": {},
   "source": [
    "## Load Temperature Data\n",
    "Assumes a file `temperatura.txt` with two columns: time and temperature."
   ]
  },
  {
   "cell_type": "code",
   "execution_count": null,
   "id": "4a08a876",
   "metadata": {},
   "outputs": [],
   "source": [
    "# ⚠️ Commented out due to missing dataset\n",
    "# current_dir = os.path.dirname(os.path.abspath(\"temperatura.txt\"))\n",
    "# file_path = os.path.join(current_dir, 'temperatura.txt')\n",
    "# data = np.loadtxt(file_path)\n",
    "# x = data[:, 0]\n",
    "# y = data[:, 1]"
   ]
  },
  {
   "cell_type": "markdown",
   "id": "3ca7efa1",
   "metadata": {},
   "source": [
    "## Bayesian Model Definition\n",
    "We define a sinusoidal model with a constant offset and Gaussian noise."
   ]
  },
  {
   "cell_type": "code",
   "execution_count": null,
   "id": "a77dc24c",
   "metadata": {},
   "outputs": [],
   "source": [
    "with pm.Model() as model:\n",
    "    amplitude = pm.HalfNormal('amplitude', sigma=1)\n",
    "    frequency = pm.Normal('frequency', mu=0, sigma=1)\n",
    "    b = pm.Normal('b', mu=200000, sigma=1)\n",
    "    noise_sd = pm.HalfNormal('noise_sd', sigma=1)\n",
    "\n",
    "    y_hat = amplitude * pm.math.sin(2 * np.pi * frequency * x) + b\n",
    "\n",
    "    y_obs = pm.Normal('y_obs', mu=y_hat, sigma=noise_sd, observed=y)\n",
    "\n",
    "    trace = pm.sample(2000, tune=1000)"
   ]
  },
  {
   "cell_type": "markdown",
   "id": "96269e9a",
   "metadata": {},
   "source": [
    "## Posterior Analysis"
   ]
  },
  {
   "cell_type": "code",
   "execution_count": null,
   "id": "a6bd2336",
   "metadata": {},
   "outputs": [],
   "source": [
    "pm.plot_trace(trace)\n",
    "plt.show()\n",
    "\n",
    "pm.plot_posterior(trace)\n",
    "plt.show()"
   ]
  },
  {
   "cell_type": "markdown",
   "id": "27cca481",
   "metadata": {},
   "source": [
    "## Predictive Mean and Confidence Interval"
   ]
  },
  {
   "cell_type": "code",
   "execution_count": null,
   "id": "206836ca",
   "metadata": {},
   "outputs": [],
   "source": [
    "amplitude_samples = trace.posterior['amplitude'].values\n",
    "frequency_samples = trace.posterior['frequency'].values\n",
    "b_samples = trace.posterior['b'].values\n",
    "\n",
    "x_new = x[None, None, :]\n",
    "y_hat = (amplitude_samples[..., None] * np.sin(2 * np.pi * frequency_samples[..., None] * x_new)) + b_samples[..., None]\n",
    "\n",
    "y_hat_mean = y_hat.mean(axis=(0, 1))\n",
    "y_hat_std = y_hat.std(axis=(0, 1))\n",
    "\n",
    "plt.figure(figsize=(10, 5))\n",
    "plt.plot(x, y, 'o', label='Observed data')\n",
    "plt.plot(x, y_hat_mean, color='C1', label='Predicted value')\n",
    "plt.fill_between(x, y_hat_mean - 2*y_hat_std, y_hat_mean + 2*y_hat_std, color='C1', alpha=0.3, label='Confidence interval')\n",
    "plt.title('Time Series Bayesian Analysis with PyMC')\n",
    "plt.xlabel('Time')\n",
    "plt.ylabel('Value')\n",
    "plt.legend()\n",
    "plt.show()"
   ]
  },
  {
   "cell_type": "markdown",
   "id": "98283a71",
   "metadata": {},
   "source": [
    "## Summary\n",
    "This notebook models temperature as a sinusoidal function using Bayesian inference. Even though the dataset is missing, the model logic and structure are fully preserved and adaptable."
   ]
  }
 ],
 "metadata": {},
 "nbformat": 4,
 "nbformat_minor": 5
}
